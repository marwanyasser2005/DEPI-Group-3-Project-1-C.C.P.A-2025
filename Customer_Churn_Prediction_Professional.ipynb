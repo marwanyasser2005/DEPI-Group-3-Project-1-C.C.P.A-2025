{
 "cells": [
  {
   "cell_type": "markdown",
   "id": "120b2c6a",
   "metadata": {},
   "source": [
    "# 📊 Customer Churn Prediction & Analysis (C.C.P.A)\n",
    "## Digital Egypt Pioneers Initiative – Graduation Project\n",
    "### AI & Data Science Track – Round 2, Group 3\n",
    "\n",
    "---\n",
    "\n",
    "### 🧾 Project Information:\n",
    "**Project Name**: Customer Churn Prediction and Analysis (Project 1)  \n",
    "**Team Members**:\n",
    "- Marwan Yasser Hassan Abdelghaffar (Team Leader)\n",
    "- Sara Mohamed Zaghloul Mohamed\n",
    "- Fatma Ayman Mohamed Abdelbaset\n",
    "- Waleed Medhat Elsayed Ahmed\n",
    "- Daniel Morcos Fouad Gerges\n",
    "- Mohamed Ali Abdelghani\n",
    "\n",
    "**Project Overview**:  \n",
    "This project aims to develop an advanced machine learning model capable of predicting customer churn, enabling companies to proactively retain at-risk customers. It includes data preprocessing, feature engineering, model training, explainability with SHAP, deployment using Streamlit, and experiment tracking with MLflow.\n",
    "\n",
    "**Technologies Used**:\n",
    "- Python\n",
    "- Pandas, NumPy\n",
    "- Scikit-learn, XGBoost, LightGBM, RandomForest\n",
    "- Matplotlib, Seaborn, Plotly\n",
    "- SHAP (Explainability)\n",
    "- MLflow (MLOps)\n",
    "- Streamlit (Deployment)\n",
    "\n",
    "---\n",
    "\n",
    "### 🎯 Objectives:\n",
    "- 🔍 Achieve high predictive accuracy (F1-score ≥ 0.80).\n",
    "- 📈 Provide actionable insights via visualizations and explainability tools.\n",
    "- 🚀 Enable deployment-ready pipeline using modular and scalable components.\n"
   ]
  }
 ],
 "metadata": {},
 "nbformat": 4,
 "nbformat_minor": 5
}
